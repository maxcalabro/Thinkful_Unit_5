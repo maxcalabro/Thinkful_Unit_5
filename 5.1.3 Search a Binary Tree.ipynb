{
 "cells": [
  {
   "cell_type": "code",
   "execution_count": 3,
   "metadata": {
    "ExecuteTime": {
     "end_time": "2018-03-04T20:33:42.199703Z",
     "start_time": "2018-03-04T20:33:42.188993Z"
    }
   },
   "outputs": [],
   "source": [
    "class Node:\n",
    "    def __init__(self, val):\n",
    "        self.left = None\n",
    "        self.right = None\n",
    "        self.val = val"
   ]
  },
  {
   "cell_type": "code",
   "execution_count": 16,
   "metadata": {
    "ExecuteTime": {
     "end_time": "2018-03-04T20:37:46.238800Z",
     "start_time": "2018-03-04T20:37:46.205721Z"
    }
   },
   "outputs": [],
   "source": [
    "import numpy as np\n",
    "\n",
    "# Root Node\n",
    "root = Node(np.random.randint(50))\n",
    "\n",
    "# Children\n",
    "root.left = Node(np.random.randint(50))\n",
    "root.right = Node(np.random.randint(50))\n",
    "\n",
    "# Grandchildren\n",
    "root.left.left = Node(np.random.randint(50))\n",
    "root.left.right = Node(np.random.randint(50))\n",
    "root.right.left = Node(np.random.randint(50))\n",
    "root.right.right = Node(np.random.randint(50))\n",
    "\n",
    "# Great Grandchildren\n",
    "root.left.left.left = Node(np.random.randint(50))\n",
    "root.left.left.right = Node(np.random.randint(50))\n",
    "root.left.right.left = Node(np.random.randint(50))\n",
    "root.left.right.right = Node(np.random.randint(50))\n",
    "root.right.left.left = Node(np.random.randint(50))\n",
    "root.right.left.right = Node(np.random.randint(50))\n",
    "root.right.right.left = Node(np.random.randint(50))\n",
    "root.right.right.right = Node(np.random.randint(50))"
   ]
  },
  {
   "cell_type": "code",
   "execution_count": 24,
   "metadata": {
    "ExecuteTime": {
     "end_time": "2018-03-04T20:45:11.357422Z",
     "start_time": "2018-03-04T20:45:11.344659Z"
    }
   },
   "outputs": [
    {
     "name": "stdout",
     "output_type": "stream",
     "text": [
      "For verification:\n",
      " 18 \n",
      " 19 14 \n",
      " 41 19 18 28 \n",
      " 37 36 35 42 2 30 24 19\n"
     ]
    }
   ],
   "source": [
    "print('For verification:\\n', root.val, '\\n', root.left.val, root.right.val, '\\n', \n",
    "      root.left.left.val, root.left.right.val, root.right.left.val, root.right.right.val, '\\n',\n",
    "      root.left.left.left.val, root.left.left.right.val, root.left.right.left.val, root.left.right.right.val,\n",
    "      root.right.left.left.val, root.right.left.right.val, root.right.right.left.val, root.right.right.right.val,)"
   ]
  },
  {
   "cell_type": "code",
   "execution_count": 74,
   "metadata": {
    "ExecuteTime": {
     "end_time": "2018-03-04T21:28:17.600726Z",
     "start_time": "2018-03-04T21:28:17.591261Z"
    }
   },
   "outputs": [],
   "source": [
    "def traverse_breadth(root):\n",
    "    this_layer = [root]\n",
    "    while this_layer:\n",
    "        next_layer = list()\n",
    "        for node in this_layer:\n",
    "            print(node.val)\n",
    "            if node.left: next_layer.append(node.left)\n",
    "            if node.right: next_layer.append(node.right)\n",
    "        print()\n",
    "        this_layer = next_layer"
   ]
  },
  {
   "cell_type": "code",
   "execution_count": 75,
   "metadata": {
    "ExecuteTime": {
     "end_time": "2018-03-04T21:28:22.905233Z",
     "start_time": "2018-03-04T21:28:22.895781Z"
    }
   },
   "outputs": [
    {
     "name": "stdout",
     "output_type": "stream",
     "text": [
      "18\n",
      "\n",
      "19\n",
      "14\n",
      "\n",
      "41\n",
      "19\n",
      "18\n",
      "28\n",
      "\n",
      "37\n",
      "36\n",
      "35\n",
      "42\n",
      "2\n",
      "30\n",
      "24\n",
      "19\n",
      "\n"
     ]
    }
   ],
   "source": [
    "traverse_breadth(root)"
   ]
  },
  {
   "cell_type": "code",
   "execution_count": 105,
   "metadata": {
    "ExecuteTime": {
     "end_time": "2018-03-05T17:36:56.763370Z",
     "start_time": "2018-03-05T17:36:56.748842Z"
    }
   },
   "outputs": [],
   "source": [
    "def traverse_depth(root):\n",
    "    this_node = root\n",
    "    nodes_remaining = []\n",
    "    while this_node:\n",
    "        print(this_node.val)\n",
    "        if this_node.right:\n",
    "            nodes_remaining.append(this_node.right)\n",
    "        if this_node.left:\n",
    "            this_node = this_node.left\n",
    "        else:\n",
    "            if len(nodes_remaining)>0:\n",
    "                this_node = nodes_remaining.pop()\n",
    "            else:\n",
    "                break\n",
    "        "
   ]
  },
  {
   "cell_type": "code",
   "execution_count": 106,
   "metadata": {
    "ExecuteTime": {
     "end_time": "2018-03-05T17:36:57.297675Z",
     "start_time": "2018-03-05T17:36:57.287905Z"
    }
   },
   "outputs": [
    {
     "name": "stdout",
     "output_type": "stream",
     "text": [
      "18\n",
      "19\n",
      "41\n",
      "37\n",
      "36\n",
      "19\n",
      "35\n",
      "42\n",
      "14\n",
      "18\n",
      "2\n",
      "30\n",
      "28\n",
      "24\n",
      "19\n"
     ]
    }
   ],
   "source": [
    "traverse_depth(root)"
   ]
  },
  {
   "cell_type": "code",
   "execution_count": null,
   "metadata": {
    "collapsed": true
   },
   "outputs": [],
   "source": []
  }
 ],
 "metadata": {
  "kernelspec": {
   "display_name": "Python 3",
   "language": "python",
   "name": "python3"
  },
  "language_info": {
   "codemirror_mode": {
    "name": "ipython",
    "version": 3
   },
   "file_extension": ".py",
   "mimetype": "text/x-python",
   "name": "python",
   "nbconvert_exporter": "python",
   "pygments_lexer": "ipython3",
   "version": "3.6.2"
  }
 },
 "nbformat": 4,
 "nbformat_minor": 2
}
