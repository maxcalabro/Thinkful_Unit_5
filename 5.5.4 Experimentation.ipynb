{
 "cells": [
  {
   "cell_type": "code",
   "execution_count": 10,
   "metadata": {
    "ExecuteTime": {
     "end_time": "2018-03-09T17:26:02.525713Z",
     "start_time": "2018-03-09T17:26:02.517266Z"
    }
   },
   "outputs": [],
   "source": [
    "import numpy as np\n",
    "import pandas as pd\n",
    "import scipy.stats as stats\n",
    "import matplotlib.pyplot as plt\n",
    "import seaborn as sns\n",
    "\n",
    "% matplotlib inline\n",
    "sns.set_style('white')"
   ]
  },
  {
   "cell_type": "code",
   "execution_count": 2,
   "metadata": {
    "ExecuteTime": {
     "end_time": "2018-03-09T17:20:05.519823Z",
     "start_time": "2018-03-09T17:20:05.434416Z"
    }
   },
   "outputs": [
    {
     "data": {
      "text/html": [
       "<div>\n",
       "<style>\n",
       "    .dataframe thead tr:only-child th {\n",
       "        text-align: right;\n",
       "    }\n",
       "\n",
       "    .dataframe thead th {\n",
       "        text-align: left;\n",
       "    }\n",
       "\n",
       "    .dataframe tbody tr th {\n",
       "        vertical-align: top;\n",
       "    }\n",
       "</style>\n",
       "<table border=\"1\" class=\"dataframe\">\n",
       "  <thead>\n",
       "    <tr style=\"text-align: right;\">\n",
       "      <th></th>\n",
       "      <th>cntry</th>\n",
       "      <th>idno</th>\n",
       "      <th>year</th>\n",
       "      <th>tvtot</th>\n",
       "      <th>ppltrst</th>\n",
       "      <th>pplfair</th>\n",
       "      <th>pplhlp</th>\n",
       "      <th>happy</th>\n",
       "      <th>sclmeet</th>\n",
       "      <th>sclact</th>\n",
       "      <th>gndr</th>\n",
       "      <th>agea</th>\n",
       "      <th>partner</th>\n",
       "    </tr>\n",
       "  </thead>\n",
       "  <tbody>\n",
       "    <tr>\n",
       "      <th>0</th>\n",
       "      <td>CH</td>\n",
       "      <td>5.0</td>\n",
       "      <td>6</td>\n",
       "      <td>3.0</td>\n",
       "      <td>3.0</td>\n",
       "      <td>10.0</td>\n",
       "      <td>5.0</td>\n",
       "      <td>8.0</td>\n",
       "      <td>5.0</td>\n",
       "      <td>4.0</td>\n",
       "      <td>2.0</td>\n",
       "      <td>60.0</td>\n",
       "      <td>1.0</td>\n",
       "    </tr>\n",
       "    <tr>\n",
       "      <th>1</th>\n",
       "      <td>CH</td>\n",
       "      <td>25.0</td>\n",
       "      <td>6</td>\n",
       "      <td>6.0</td>\n",
       "      <td>5.0</td>\n",
       "      <td>7.0</td>\n",
       "      <td>5.0</td>\n",
       "      <td>9.0</td>\n",
       "      <td>3.0</td>\n",
       "      <td>2.0</td>\n",
       "      <td>2.0</td>\n",
       "      <td>59.0</td>\n",
       "      <td>1.0</td>\n",
       "    </tr>\n",
       "    <tr>\n",
       "      <th>2</th>\n",
       "      <td>CH</td>\n",
       "      <td>26.0</td>\n",
       "      <td>6</td>\n",
       "      <td>1.0</td>\n",
       "      <td>8.0</td>\n",
       "      <td>8.0</td>\n",
       "      <td>8.0</td>\n",
       "      <td>7.0</td>\n",
       "      <td>6.0</td>\n",
       "      <td>3.0</td>\n",
       "      <td>1.0</td>\n",
       "      <td>24.0</td>\n",
       "      <td>2.0</td>\n",
       "    </tr>\n",
       "    <tr>\n",
       "      <th>3</th>\n",
       "      <td>CH</td>\n",
       "      <td>28.0</td>\n",
       "      <td>6</td>\n",
       "      <td>4.0</td>\n",
       "      <td>6.0</td>\n",
       "      <td>6.0</td>\n",
       "      <td>7.0</td>\n",
       "      <td>10.0</td>\n",
       "      <td>6.0</td>\n",
       "      <td>2.0</td>\n",
       "      <td>2.0</td>\n",
       "      <td>64.0</td>\n",
       "      <td>1.0</td>\n",
       "    </tr>\n",
       "    <tr>\n",
       "      <th>4</th>\n",
       "      <td>CH</td>\n",
       "      <td>29.0</td>\n",
       "      <td>6</td>\n",
       "      <td>5.0</td>\n",
       "      <td>6.0</td>\n",
       "      <td>7.0</td>\n",
       "      <td>5.0</td>\n",
       "      <td>8.0</td>\n",
       "      <td>7.0</td>\n",
       "      <td>2.0</td>\n",
       "      <td>2.0</td>\n",
       "      <td>55.0</td>\n",
       "      <td>1.0</td>\n",
       "    </tr>\n",
       "  </tbody>\n",
       "</table>\n",
       "</div>"
      ],
      "text/plain": [
       "  cntry  idno  year  tvtot  ppltrst  pplfair  pplhlp  happy  sclmeet  sclact  \\\n",
       "0    CH   5.0     6    3.0      3.0     10.0     5.0    8.0      5.0     4.0   \n",
       "1    CH  25.0     6    6.0      5.0      7.0     5.0    9.0      3.0     2.0   \n",
       "2    CH  26.0     6    1.0      8.0      8.0     8.0    7.0      6.0     3.0   \n",
       "3    CH  28.0     6    4.0      6.0      6.0     7.0   10.0      6.0     2.0   \n",
       "4    CH  29.0     6    5.0      6.0      7.0     5.0    8.0      7.0     2.0   \n",
       "\n",
       "   gndr  agea  partner  \n",
       "0   2.0  60.0      1.0  \n",
       "1   2.0  59.0      1.0  \n",
       "2   1.0  24.0      2.0  \n",
       "3   2.0  64.0      1.0  \n",
       "4   2.0  55.0      1.0  "
      ]
     },
     "execution_count": 2,
     "metadata": {},
     "output_type": "execute_result"
    }
   ],
   "source": [
    "df = pd.read_csv('ESSdata_Thinkful.csv')\n",
    "df.head()"
   ]
  },
  {
   "cell_type": "markdown",
   "metadata": {},
   "source": [
    "    1. Did people become less trusting from 2012 to 2014? Compute results for each country in the sample."
   ]
  },
  {
   "cell_type": "code",
   "execution_count": 4,
   "metadata": {
    "ExecuteTime": {
     "end_time": "2018-03-09T17:21:40.572800Z",
     "start_time": "2018-03-09T17:21:40.565158Z"
    }
   },
   "outputs": [
    {
     "data": {
      "text/plain": [
       "(array([6, 7]), array(['CH', 'CZ', 'DE', 'ES', 'NO', 'SE'], dtype=object))"
      ]
     },
     "execution_count": 4,
     "metadata": {},
     "output_type": "execute_result"
    }
   ],
   "source": [
    "df.year.unique(), df.cntry.unique()"
   ]
  },
  {
   "cell_type": "markdown",
   "metadata": {},
   "source": [
    "If the data is normally distributed, we'll use t-test for paired samples. If non-normally distributed, we'll use Wilcoxon signed-rank test."
   ]
  },
  {
   "cell_type": "code",
   "execution_count": 51,
   "metadata": {
    "ExecuteTime": {
     "end_time": "2018-03-09T17:54:54.162270Z",
     "start_time": "2018-03-09T17:54:53.873203Z"
    }
   },
   "outputs": [
    {
     "data": {
      "image/png": "[encoded data removed]",
      "text/plain": [
       "<matplotlib.figure.Figure at 0x1a16458080>"
      ]
     },
     "metadata": {},
     "output_type": "display_data"
    }
   ],
   "source": [
    "sns.distplot(df.ppltrst.dropna())\n",
    "plt.show()"
   ]
  },
  {
   "cell_type": "markdown",
   "metadata": {
    "ExecuteTime": {
     "end_time": "2018-03-09T17:25:07.954317Z",
     "start_time": "2018-03-09T17:25:07.941842Z"
    }
   },
   "source": [
    "That's pretty close to normal -- let's use paired t-test."
   ]
  },
  {
   "cell_type": "code",
   "execution_count": 47,
   "metadata": {
    "ExecuteTime": {
     "end_time": "2018-03-09T17:43:56.102960Z",
     "start_time": "2018-03-09T17:43:55.961764Z"
    }
   },
   "outputs": [
    {
     "name": "stdout",
     "output_type": "stream",
     "text": [
      "Country CH: \n",
      " 2012 mean, std: 5.677878395860285 2.130700741166084 \n",
      " 2014 mean, std: 5.751617076326003 2.143888312553354 \n",
      " Ttest_relResult(statistic=-0.6586851756725737, pvalue=0.5102943511301135) \n",
      "\n",
      "Country CZ: \n",
      " 2012 mean, std: 4.362519201228879 2.40973840537164 \n",
      " 2014 mean, std: 4.424657534246576 2.305388884429927 \n",
      " Ttest_relResult(statistic=-0.5001638336887216, pvalue=0.617129268240474) \n",
      "\n",
      "Country DE: \n",
      " 2012 mean, std: 5.214285714285714 1.5281246137553166 \n",
      " 2014 mean, std: 5.357142857142857 2.5300393082122064 \n",
      " Ttest_relResult(statistic=-0.18399501804849683, pvalue=0.8568563797095805) \n",
      "\n",
      "Country ES: \n",
      " 2012 mean, std: 5.114591920857379 2.183623363260004 \n",
      " 2014 mean, std: 4.895127993393889 2.148164939563797 \n",
      " Ttest_relResult(statistic=2.4561906976601646, pvalue=0.014181580725320284) \n",
      "\n",
      "Country NO: \n",
      " 2012 mean, std: 6.64931506849315 1.7498675856367973 \n",
      " 2014 mean, std: 6.598630136986301 1.8111825442767264 \n",
      " Ttest_relResult(statistic=0.5073077081124404, pvalue=0.61209257015177) \n",
      "\n",
      "Country SE: \n",
      " 2012 mean, std: 6.058498896247241 2.055554275507417 \n",
      " 2014 mean, std: 6.257709251101321 2.0054215478574906 \n",
      " Ttest_relResult(statistic=-2.0671082026033982, pvalue=0.03900781670958545) \n",
      "\n"
     ]
    }
   ],
   "source": [
    "for country in df.cntry.unique():\n",
    "    print('Country {}:'.format(country), '\\n',\n",
    "          '2012 mean, std:',\n",
    "          df[(df.year==6) & (df.cntry==country)].ppltrst.mean(),\n",
    "          df[(df.year==6) & (df.cntry==country)].ppltrst.std(), '\\n',\n",
    "          '2014 mean, std:',\n",
    "          df[(df.year==7) & (df.cntry==country)].ppltrst.mean(),\n",
    "          df[(df.year==7) & (df.cntry==country)].ppltrst.std(), '\\n',\n",
    "          stats.ttest_rel(df[(df.year==6) & (df.cntry==country)].ppltrst, \n",
    "                          df[(df.year==7) & (df.cntry==country)].ppltrst,\n",
    "                          nan_policy='omit'), '\\n'\n",
    "         )\n",
    "    "
   ]
  },
  {
   "cell_type": "markdown",
   "metadata": {},
   "source": [
    "Two of our countries have a p-value below 0.05, suggesting a measurable change in trust: Spain (ES, which decreased), and Sweden (SE, which increased). None of the other countries had trust levels change enough to measure."
   ]
  },
  {
   "cell_type": "markdown",
   "metadata": {},
   "source": [
    "    2. Did people become happier from 2012 to 2014? Compute results for each country in the sample.\n",
    "\n",
    "First, is the data normally distributed?"
   ]
  },
  {
   "cell_type": "code",
   "execution_count": 52,
   "metadata": {
    "ExecuteTime": {
     "end_time": "2018-03-09T17:55:02.587423Z",
     "start_time": "2018-03-09T17:55:02.078428Z"
    }
   },
   "outputs": [
    {
     "data": {
      "image/png": "[encoded data removed]",
      "text/plain": [
       "<matplotlib.figure.Figure at 0x1a163d38d0>"
      ]
     },
     "metadata": {},
     "output_type": "display_data"
    }
   ],
   "source": [
    "sns.distplot(df.happy.dropna())\n",
    "plt.show()"
   ]
  },
  {
   "cell_type": "markdown",
   "metadata": {},
   "source": [
    "Again, pretty close to normal. We can run the same tests."
   ]
  },
  {
   "cell_type": "code",
   "execution_count": 68,
   "metadata": {
    "ExecuteTime": {
     "end_time": "2018-03-09T18:11:58.206820Z",
     "start_time": "2018-03-09T18:11:57.897482Z"
    }
   },
   "outputs": [
    {
     "name": "stdout",
     "output_type": "stream",
     "text": [
      "Country CH: \n",
      " 2012 mean, std: 8.088311688311688 1.4379198624445235 \n",
      " 2014 mean, std: 8.116429495472186 1.4057254066572344 \n",
      " Ttest_relResult(statistic=-0.319412957862232, pvalue=0.7495001355429063) \n",
      "\n",
      "Country CZ: \n",
      " 2012 mean, std: 6.7708978328173375 2.0535818129341483 \n",
      " 2014 mean, std: 6.914110429447852 1.902859915693832 \n",
      " Ttest_relResult(statistic=-1.4561384833039597, pvalue=0.1458454843389451) \n",
      "\n",
      "Country DE: \n",
      " 2012 mean, std: 7.428571428571429 1.650840611711114 \n",
      " 2014 mean, std: 7.857142857142857 1.292412345317728 \n",
      " Ttest_relResult(statistic=-0.8062257748298549, pvalue=0.4346138707734991) \n",
      "\n",
      "Country ES: \n",
      " 2012 mean, std: 7.548679867986799 1.9130841347191996 \n",
      " 2014 mean, std: 7.41996699669967 1.872314878616906 \n",
      " Ttest_relResult(statistic=1.613832417735418, pvalue=0.10682451556479494) \n",
      "\n",
      "Country NO: \n",
      " 2012 mean, std: 8.25171939477304 1.4272704838606838 \n",
      " 2014 mean, std: 7.9151846785225715 1.5810268252030164 \n",
      " Ttest_relResult(statistic=4.2856826576235925, pvalue=2.067453013405473e-05) \n",
      "\n",
      "Country SE: \n",
      " 2012 mean, std: 7.907386990077177 1.5218136136126155 \n",
      " 2014 mean, std: 7.946961325966851 1.4061551417943554 \n",
      " Ttest_relResult(statistic=-0.5581637086030012, pvalue=0.5768709591233714) \n",
      "\n"
     ]
    }
   ],
   "source": [
    "for country in df.cntry.unique():\n",
    "    print('Country {}:'.format(country), '\\n',\n",
    "          '2012 mean, std:',\n",
    "          df[(df.year==6) & (df.cntry==country)].happy.mean(),\n",
    "          df[(df.year==6) & (df.cntry==country)].happy.std(), '\\n',\n",
    "          '2014 mean, std:',\n",
    "          df[(df.year==7) & (df.cntry==country)].happy.mean(),\n",
    "          df[(df.year==7) & (df.cntry==country)].happy.std(), '\\n',\n",
    "          stats.ttest_rel(df[(df.year==6) & (df.cntry==country)].happy, \n",
    "                          df[(df.year==7) & (df.cntry==country)].happy,\n",
    "                          nan_policy='omit'), '\\n'\n",
    "         )"
   ]
  },
  {
   "cell_type": "markdown",
   "metadata": {},
   "source": [
    "Based on these results, the only change in happiness that is statistically significant (p-value=0.00002) is Norway, whose happiness decreased. None of the other countries have measurable change."
   ]
  },
  {
   "cell_type": "markdown",
   "metadata": {},
   "source": [
    "    3. Who reported watching more TV in 2012, men or women?\n",
    "\n",
    "For this one, we won't need to worry about dependent groups. Is it normal?"
   ]
  },
  {
   "cell_type": "code",
   "execution_count": 53,
   "metadata": {
    "ExecuteTime": {
     "end_time": "2018-03-09T17:55:56.182958Z",
     "start_time": "2018-03-09T17:55:55.959316Z"
    }
   },
   "outputs": [
    {
     "data": {
      "image/png": "[encoded data removed]",
      "text/plain": [
       "<matplotlib.figure.Figure at 0x1a16524630>"
      ]
     },
     "metadata": {},
     "output_type": "display_data"
    }
   ],
   "source": [
    "sns.distplot(df[df.year==6].tvtot.dropna())\n",
    "plt.show()"
   ]
  },
  {
   "cell_type": "markdown",
   "metadata": {},
   "source": [
    "This is not normal. Let's use Mann-Whitney U-test."
   ]
  },
  {
   "cell_type": "code",
   "execution_count": 61,
   "metadata": {
    "ExecuteTime": {
     "end_time": "2018-03-09T18:00:54.901029Z",
     "start_time": "2018-03-09T18:00:54.875768Z"
    }
   },
   "outputs": [
    {
     "name": "stdout",
     "output_type": "stream",
     "text": [
      " Male TV watching mean, std: 3.901906090190609 1.983689560416923 \n",
      " Female TV watching mean, std: 3.944392523364486 2.0494566162335452 \n",
      " MannwhitneyuResult(statistic=2277506.5, pvalue=0.22419270231191457)\n"
     ]
    }
   ],
   "source": [
    "print(' Male TV watching mean, std:',\n",
    "      df[(df.year==6) & (df.gndr==1)].tvtot.mean(),\n",
    "      df[(df.year==6) & (df.gndr==1)].tvtot.std(), '\\n', \n",
    "      'Female TV watching mean, std:',\n",
    "      df[(df.year==6) & (df.gndr==2)].tvtot.mean(),\n",
    "      df[(df.year==6) & (df.gndr==2)].tvtot.std(), '\\n',\n",
    "      stats.mannwhitneyu(df[(df.year==6) & (df.gndr==1)].tvtot, \n",
    "                         df[(df.year==6) & (df.gndr==2)].tvtot))"
   ]
  },
  {
   "cell_type": "markdown",
   "metadata": {},
   "source": [
    "Men and women did not watch measurably different amounts of TV in 2012.\n",
    "\n",
    "    4. Who was more likely to believe people were fair in 2012, people with a partner or people living alone?"
   ]
  },
  {
   "cell_type": "code",
   "execution_count": 62,
   "metadata": {
    "ExecuteTime": {
     "end_time": "2018-03-09T18:03:29.385099Z",
     "start_time": "2018-03-09T18:03:29.120338Z"
    }
   },
   "outputs": [
    {
     "data": {
      "image/png": "[encoded data removed]",
      "text/plain": [
       "<matplotlib.figure.Figure at 0x1a1643c898>"
      ]
     },
     "metadata": {},
     "output_type": "display_data"
    }
   ],
   "source": [
    "sns.distplot(df[df.year==6].pplfair.dropna())\n",
    "plt.show()"
   ]
  },
  {
   "cell_type": "markdown",
   "metadata": {},
   "source": [
    "That's fairly normal -- let's use a t-test."
   ]
  },
  {
   "cell_type": "code",
   "execution_count": 65,
   "metadata": {
    "ExecuteTime": {
     "end_time": "2018-03-09T18:05:17.500820Z",
     "start_time": "2018-03-09T18:05:17.473864Z"
    }
   },
   "outputs": [
    {
     "name": "stdout",
     "output_type": "stream",
     "text": [
      " With Partner fairness mean, std: 6.080736012016523 2.1169454907720704 \n",
      " Without Partner fairness mean, std: 5.856965174129353 2.162229079547118 \n",
      " Ttest_indResult(statistic=3.3201033970362084, pvalue=0.0009073952609876207)\n"
     ]
    }
   ],
   "source": [
    "print(' With Partner fairness mean, std:',\n",
    "      df[(df.year==6) & (df.partner==1)].pplfair.mean(),\n",
    "      df[(df.year==6) & (df.partner==1)].pplfair.std(), '\\n', \n",
    "      'Without Partner fairness mean, std:',\n",
    "      df[(df.year==6) & (df.partner==2)].pplfair.mean(),\n",
    "      df[(df.year==6) & (df.partner==2)].pplfair.std(), '\\n',\n",
    "      stats.ttest_ind(df[(df.year==6) & (df.partner==1)].pplfair, \n",
    "                      df[(df.year==6) & (df.partner==2)].pplfair,\n",
    "                      nan_policy='omit'))"
   ]
  },
  {
   "cell_type": "markdown",
   "metadata": {},
   "source": [
    "With a p-value of 0.0009, people with a partner are more likely to think people are fair to them in 2012.\n",
    "\n",
    "    5. Pick three or four of the countries in the sample and compare how often people met socially in 2014. Are there differences, and if so, which countries stand out?\n",
    "    \n",
    "If the distribution is normal, let's use ANOVA."
   ]
  },
  {
   "cell_type": "code",
   "execution_count": 67,
   "metadata": {
    "ExecuteTime": {
     "end_time": "2018-03-09T18:08:49.055720Z",
     "start_time": "2018-03-09T18:08:48.786616Z"
    }
   },
   "outputs": [
    {
     "data": {
      "image/png": "[encoded data removed]",
      "text/plain": [
       "<matplotlib.figure.Figure at 0x1a16113a90>"
      ]
     },
     "metadata": {},
     "output_type": "display_data"
    }
   ],
   "source": [
    "sns.distplot(df[df.year==7].sclmeet.dropna())\n",
    "plt.show()"
   ]
  },
  {
   "cell_type": "markdown",
   "metadata": {},
   "source": [
    "Hmm, that is not normal. Let's use Kruskal-Wallis instead."
   ]
  },
  {
   "cell_type": "code",
   "execution_count": 77,
   "metadata": {
    "ExecuteTime": {
     "end_time": "2018-03-09T18:17:49.491006Z",
     "start_time": "2018-03-09T18:17:49.353064Z"
    }
   },
   "outputs": [
    {
     "name": "stdout",
     "output_type": "stream",
     "text": [
      "Country CH: \n",
      " Country mean, std: 5.160621761658031 1.3084990567528922 \n",
      " KruskalResult(statistic=0.4816805029181373, pvalue=0.487662102336462) \n",
      "\n",
      "Country CZ: \n",
      " Country mean, std: 4.445801526717557 1.4817059523925264 \n",
      " KruskalResult(statistic=186.19226727618965, pvalue=2.1553615412807575e-42) \n",
      "\n",
      "Country DE: \n",
      " Country mean, std: 4.428571428571429 0.7559289460184544 \n",
      " KruskalResult(statistic=6.138971985642385, pvalue=0.01322341681587758) \n",
      "\n",
      "Country ES: \n",
      " Country mean, std: 5.2601156069364166 1.467854898534904 \n",
      " KruskalResult(statistic=13.113714968159636, pvalue=0.00029314181299477856) \n",
      "\n",
      "Country NO: \n",
      " Country mean, std: 5.3023255813953485 1.347847622841502 \n",
      " KruskalResult(statistic=7.4829481965340605, pvalue=0.006228600327190737) \n",
      "\n",
      "Country SE: \n",
      " Country mean, std: 5.426211453744493 1.3730980300040347 \n",
      " KruskalResult(statistic=42.31851458812402, pvalue=7.755487735563711e-11) \n",
      "\n"
     ]
    }
   ],
   "source": [
    "for country in df.cntry.unique():\n",
    "    print('Country {}:'.format(country), '\\n',\n",
    "          'Country mean, std:',\n",
    "          df[(df.year==7) & (df.cntry==country)].sclmeet.mean(),\n",
    "          df[(df.year==7) & (df.cntry==country)].sclmeet.std(), '\\n',\n",
    "          stats.kruskal(df[(df.year==7) & (df.cntry==country)].sclmeet, \n",
    "                        df[(df.year==7) & (df.cntry!=country)].sclmeet,\n",
    "                        nan_policy='omit'), '\\n'\n",
    "         )"
   ]
  },
  {
   "cell_type": "markdown",
   "metadata": {},
   "source": [
    "Comparing each country to all the rest, it appears that all of them except CH are significantly different from the collection of the whole group. This doesn't actually tell us that much -- there could be two clusters of results that are different enough from each other that including them both in the analysis means all the countries will be different from the mean. It does appear that that's what's happening: ES, NO, and SE are fairly high, CZ and DE are low, CZ is near the middle.\n",
    "\n",
    "    6. Pick three or four of the countries in the sample and compare how often people took part in social activities, relative to others their age, in 2014. Are there differences, and if so, which countries stand out?"
   ]
  },
  {
   "cell_type": "code",
   "execution_count": 78,
   "metadata": {
    "ExecuteTime": {
     "end_time": "2018-03-09T18:33:14.739862Z",
     "start_time": "2018-03-09T18:33:14.358186Z"
    }
   },
   "outputs": [
    {
     "data": {
      "image/png": "[encoded data removed]",
      "text/plain": [
       "<matplotlib.figure.Figure at 0x1a15992048>"
      ]
     },
     "metadata": {},
     "output_type": "display_data"
    }
   ],
   "source": [
    "sns.distplot(df[df.year==7].sclact.dropna())\n",
    "plt.show()"
   ]
  },
  {
   "cell_type": "markdown",
   "metadata": {},
   "source": [
    "This actually is fairly normally distributed, it just looks funny because of the fit line.\n",
    "\n",
    "This is a complicated question. So, we're comparing people from each country to people in other countries who are the same age they are. We might get some small sample sizes if we don't bin the ages, so let's make separate groups for each decade. With the normal distribution, we'll be able to use ANOVA."
   ]
  },
  {
   "cell_type": "code",
   "execution_count": 86,
   "metadata": {
    "ExecuteTime": {
     "end_time": "2018-03-09T18:37:58.454090Z",
     "start_time": "2018-03-09T18:37:57.974113Z"
    }
   },
   "outputs": [
    {
     "data": {
      "image/png": "[encoded data removed]",
      "text/plain": [
       "<matplotlib.figure.Figure at 0x1a16176978>"
      ]
     },
     "metadata": {},
     "output_type": "display_data"
    },
    {
     "data": {
      "text/plain": [
       "(15.0, 114.0)"
      ]
     },
     "execution_count": 86,
     "metadata": {},
     "output_type": "execute_result"
    }
   ],
   "source": [
    "sns.distplot(df.agea.dropna())\n",
    "plt.show()\n",
    "df.agea.min(), df.agea.max()"
   ]
  },
  {
   "cell_type": "code",
   "execution_count": 102,
   "metadata": {
    "ExecuteTime": {
     "end_time": "2018-03-09T18:49:57.706647Z",
     "start_time": "2018-03-09T18:49:57.095390Z"
    }
   },
   "outputs": [
    {
     "name": "stdout",
     "output_type": "stream",
     "text": [
      "Country CH:\n",
      "Ages 20 - 29 mean: 2.7663551401869158 pvalue: 0.20775653733732158\n",
      "Ages 30 - 39 mean: 2.7170542635658914 pvalue: 0.906505424690014\n",
      "Ages 40 - 49 mean: 2.784313725490196 pvalue: 0.34694917752335586\n",
      "Ages 50 - 59 mean: 2.7628458498023716 pvalue: 0.2764287551124943\n",
      "Ages 60 - 69 mean: 2.6616915422885574 pvalue: 0.0922490370835381\n",
      "Ages 70 - 79 mean: 2.7045454545454546 pvalue: 0.4957186472714141\n",
      "Ages 80 - 89 mean: 2.6610169491525424 pvalue: 0.0985533214948272\n",
      "Ages 90 - 99 mean: 3.142857142857143 pvalue: 0.28806888965177513\n",
      "Country CZ:\n",
      "Ages 20 - 29 mean: 2.9743589743589745 pvalue: 0.026025179391651363\n",
      "Ages 30 - 39 mean: 2.619718309859155 pvalue: 0.08509930882940182\n",
      "Ages 40 - 49 mean: 2.5823293172690764 pvalue: 0.002003426361333951\n",
      "Ages 50 - 59 mean: 2.603112840466926 pvalue: 0.04346504813028065\n",
      "Ages 60 - 69 mean: 2.6324324324324326 pvalue: 0.038234623062239424\n",
      "Ages 70 - 79 mean: 2.4545454545454546 pvalue: 0.001105178132551279\n",
      "Ages 80 - 89 mean: 2.533333333333333 pvalue: 0.7672807130520726\n",
      "Ages 90 - 99 mean: 2.0 pvalue: 0.25390667126647937\n",
      "Country DE:\n",
      "Ages 20 - 29 mean: 2.5 pvalue: 0.5830555296357343\n",
      "Ages 30 - 39 mean: 3.0 pvalue: 0.5559067307871346\n",
      "Ages 40 - 49 mean: 3.0 pvalue: 0.6006329220096998\n",
      "Ages 50 - 59 mean: 3.0 pvalue: 0.3042983047327092\n",
      "Ages 60 - 69 mean: 2.75 pvalue: 0.9798553435660917\n",
      "Ages 70 - 79 mean: 2.5 pvalue: 0.6025516160093541\n",
      "Ages 80 - 89 mean: 2.0 pvalue: 0.5549224806199607\n",
      "Ages 90 - 99 mean: nan pvalue: nan\n",
      "Country ES:\n",
      "Ages 20 - 29 mean: 2.6666666666666665 pvalue: 0.00011563795184143665\n",
      "Ages 30 - 39 mean: 2.613583138173302 pvalue: 0.0037609892048151607\n",
      "Ages 40 - 49 mean: 2.596949891067538 pvalue: 3.10710412888355e-05\n",
      "Ages 50 - 59 mean: 2.609452736318408 pvalue: 0.011338891973096902\n",
      "Ages 60 - 69 mean: 2.6040268456375837 pvalue: 0.0006548378600656304\n",
      "Ages 70 - 79 mean: 2.598086124401914 pvalue: 0.006394676645024421\n",
      "Ages 80 - 89 mean: 2.0841121495327104 pvalue: 7.932192425586273e-06\n",
      "Ages 90 - 99 mean: 2.25 pvalue: 0.08217497587191491\n",
      "Country NO:\n",
      "Ages 20 - 29 mean: 2.9343434343434343 pvalue: 0.06586643566293601"
     ]
    },
    {
     "name": "stderr",
     "output_type": "stream",
     "text": [
      "/Users/maxcalabro/anaconda3/lib/python3.6/site-packages/scipy/stats/stats.py:2958: RuntimeWarning: invalid value encountered in double_scalars\n",
      "  ssbn += _square_of_sums(a - offset) / float(len(a))\n"
     ]
    },
    {
     "name": "stdout",
     "output_type": "stream",
     "text": [
      "\n",
      "Ages 30 - 39 mean: 2.8125 pvalue: 0.0616016775103396\n",
      "Ages 40 - 49 mean: 2.9003322259136213 pvalue: 0.0002769013449650013\n",
      "Ages 50 - 59 mean: 2.8354430379746836 pvalue: 0.01651652982939557\n",
      "Ages 60 - 69 mean: 2.9563106796116503 pvalue: 0.0008546672863162846\n",
      "Ages 70 - 79 mean: 3.0168067226890756 pvalue: 0.0020145042376377696\n",
      "Ages 80 - 89 mean: 2.7857142857142856 pvalue: 0.03125099678795885\n",
      "Ages 90 - 99 mean: 3.0 pvalue: 0.4495171050840018\n",
      "Country SE:\n",
      "Ages 20 - 29 mean: 2.9163346613545817 pvalue: 0.07918672486634813\n",
      "Ages 30 - 39 mean: 2.8883720930232557 pvalue: 0.0008289073701688278\n",
      "Ages 40 - 49 mean: 2.904 pvalue: 0.0009057281713212492\n",
      "Ages 50 - 59 mean: 2.770609318996416 pvalue: 0.18846133069135426\n",
      "Ages 60 - 69 mean: 2.925806451612903 pvalue: 0.0002660303708809799\n",
      "Ages 70 - 79 mean: 2.9452054794520546 pvalue: 0.001008245414566531\n",
      "Ages 80 - 89 mean: 2.63768115942029 pvalue: 0.1049428160660941\n",
      "Ages 90 - 99 mean: 3.0 pvalue: 0.3819391910679514\n"
     ]
    }
   ],
   "source": [
    "for country in df.cntry.unique():\n",
    "    print('Country {}:'.format(country))\n",
    "    for age in range(20, 91, 10):\n",
    "        print('Ages {} - {}'.format(age, age + 9),\n",
    "              'mean:',\n",
    "              df[(df.agea>=age) & (df.agea<age+10) & (df.cntry==country)].sclact.dropna().mean(),\n",
    "              'pvalue:',\n",
    "              stats.f_oneway(df[(df.agea>=age) & (df.agea<age+10) & (df.cntry==country)].sclact.dropna(),\n",
    "                             df[(df.agea>=age) & (df.agea<age+10) & (df.cntry!=country)].sclact.dropna())[1])"
   ]
  },
  {
   "cell_type": "markdown",
   "metadata": {},
   "source": [
    "This is a lot to look at (but we were asked to calculate a lot as well). Here's what we see:\n",
    "\n",
    "Some of the groups that do activities a significantly different amount than their same age group in different countries include:\n",
    "    \n",
    "    In CZ and ES, most age groups do fewer activities than their counterparts in other countries.\n",
    "    In NO and SE, most age groups do more activities than their counterparts in other countries."
   ]
  },
  {
   "cell_type": "code",
   "execution_count": null,
   "metadata": {
    "collapsed": true
   },
   "outputs": [],
   "source": []
  }
 ],
 "metadata": {
  "kernelspec": {
   "display_name": "Python 3",
   "language": "python",
   "name": "python3"
  },
  "language_info": {
   "codemirror_mode": {
    "name": "ipython",
    "version": 3
   },
   "file_extension": ".py",
   "mimetype": "text/x-python",
   "name": "python",
   "nbconvert_exporter": "python",
   "pygments_lexer": "ipython3",
   "version": "3.6.2"
  }
 },
 "nbformat": 4,
 "nbformat_minor": 2
}
