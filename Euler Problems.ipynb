{
 "cells": [
  {
   "cell_type": "code",
   "execution_count": 1,
   "metadata": {
    "ExecuteTime": {
     "end_time": "2018-03-05T19:35:59.162997Z",
     "start_time": "2018-03-05T19:35:58.984749Z"
    },
    "collapsed": true
   },
   "outputs": [],
   "source": [
    "import numpy as np"
   ]
  },
  {
   "cell_type": "markdown",
   "metadata": {},
   "source": [
    "Problem 1: Sum all the multiples of 3 and 5 below 1000."
   ]
  },
  {
   "cell_type": "code",
   "execution_count": 2,
   "metadata": {
    "ExecuteTime": {
     "end_time": "2018-03-05T19:35:59.204673Z",
     "start_time": "2018-03-05T19:35:59.178499Z"
    }
   },
   "outputs": [
    {
     "name": "stdout",
     "output_type": "stream",
     "text": [
      "233168\n"
     ]
    }
   ],
   "source": [
    "tally = 0\n",
    "for i in range(1000):\n",
    "    if i % 3 == 0 or i % 5 ==0:\n",
    "        tally += i\n",
    "print(tally)"
   ]
  },
  {
   "cell_type": "markdown",
   "metadata": {},
   "source": [
    "Problem 2: Sum all the even Fibonacci numbers below 4,000,000."
   ]
  },
  {
   "cell_type": "code",
   "execution_count": 3,
   "metadata": {
    "ExecuteTime": {
     "end_time": "2018-03-05T19:35:59.244527Z",
     "start_time": "2018-03-05T19:35:59.209122Z"
    }
   },
   "outputs": [
    {
     "name": "stdout",
     "output_type": "stream",
     "text": [
      "4613732\n"
     ]
    }
   ],
   "source": [
    "n0, n1 = 1, 1\n",
    "tally = 0\n",
    "while n1 < 4000000:\n",
    "    if n1 % 2 == 0: tally += n1\n",
    "    n0, n1 = n1, n0 + n1\n",
    "print(tally)"
   ]
  },
  {
   "cell_type": "markdown",
   "metadata": {},
   "source": [
    "Problem 3:\n",
    "\n",
    "The prime factors of 13195 are 5, 7, 13 and 29.\n",
    "\n",
    "What is the largest prime factor of the number 600851475143?"
   ]
  },
  {
   "cell_type": "code",
   "execution_count": 4,
   "metadata": {
    "ExecuteTime": {
     "end_time": "2018-03-05T19:35:59.348965Z",
     "start_time": "2018-03-05T19:35:59.272487Z"
    }
   },
   "outputs": [
    {
     "name": "stdout",
     "output_type": "stream",
     "text": [
      "6857\n"
     ]
    }
   ],
   "source": [
    "remaining = 600851475143\n",
    "factors = []\n",
    "while remaining > 1:\n",
    "    for i in range(2, remaining + 1):\n",
    "        if remaining % i == 0:\n",
    "            factors.append(i)\n",
    "            remaining //= i\n",
    "            break\n",
    "print(max(factors))"
   ]
  },
  {
   "cell_type": "markdown",
   "metadata": {},
   "source": [
    "Problem 4: \n",
    "\n",
    "A palindromic number reads the same both ways. The largest palindrome made from the product of two 2-digit numbers is 9009 = 91 × 99.\n",
    "\n",
    "Find the largest palindrome made from the product of two 3-digit numbers."
   ]
  },
  {
   "cell_type": "code",
   "execution_count": 5,
   "metadata": {
    "ExecuteTime": {
     "end_time": "2018-03-05T19:35:59.389122Z",
     "start_time": "2018-03-05T19:35:59.359127Z"
    }
   },
   "outputs": [],
   "source": [
    "def is_pal(n):\n",
    "    for i in range(len(str(n))//2):\n",
    "        if str(n)[i] != str(n)[-(i+1)]:\n",
    "            return False\n",
    "    return True"
   ]
  },
  {
   "cell_type": "code",
   "execution_count": 6,
   "metadata": {
    "ExecuteTime": {
     "end_time": "2018-03-05T19:35:59.531376Z",
     "start_time": "2018-03-05T19:35:59.393340Z"
    }
   },
   "outputs": [
    {
     "name": "stdout",
     "output_type": "stream",
     "text": [
      "906609\n"
     ]
    }
   ],
   "source": [
    "c = np.arange(100,1000)\n",
    "c_mat = np.tile(c, (900, 1)) * np.tile(c, (900, 1)).T\n",
    "x = c_mat.reshape(900*900, 1)\n",
    "x.sort(axis=0)\n",
    "x = x[::-1]\n",
    "for n in x:\n",
    "    if is_pal(int(n)):\n",
    "        pal_max = int(n)\n",
    "        break\n",
    "print(pal_max)"
   ]
  },
  {
   "cell_type": "markdown",
   "metadata": {},
   "source": [
    "Problem 5: \n",
    "\n",
    "2520 is the smallest number that can be divided by each of the numbers from 1 to 10 without any remainder.\n",
    "\n",
    "What is the smallest positive number that is evenly divisible by all of the numbers from 1 to 20?\n",
    "\n",
    "20: 5, 2, 2\n",
    "19: 19\n",
    "18: 3, 3, 2\n",
    "17: 17\n",
    "16: 2, 2, 2, 2\n",
    "15: 3, 5\n",
    "14: 7, 2\n",
    "13: 13\n",
    "12: 2, 2, 3\n",
    "11: 11\n",
    "10: 2, 5\n",
    "9: 3, 3\n",
    "8: 2, 2, 2\n",
    "7: 7\n",
    "6: 2, 3\n",
    "5: 5\n",
    "\n",
    "We need: 19, 17, 13, 11, 7, 5, 3x2, 2x4"
   ]
  },
  {
   "cell_type": "code",
   "execution_count": 7,
   "metadata": {
    "ExecuteTime": {
     "end_time": "2018-03-05T19:35:59.551491Z",
     "start_time": "2018-03-05T19:35:59.535344Z"
    }
   },
   "outputs": [
    {
     "data": {
      "text/plain": [
       "232792560"
      ]
     },
     "execution_count": 7,
     "metadata": {},
     "output_type": "execute_result"
    }
   ],
   "source": [
    "19*17*13*11*7*5*3*3*2*2*2*2"
   ]
  },
  {
   "cell_type": "markdown",
   "metadata": {},
   "source": [
    "Problem 6: \n",
    "\n",
    "The sum of the squares of the first ten natural numbers is,\n",
    "1^2 + 2^2 + ... + 10^2 = 385\n",
    "\n",
    "The square of the sum of the first ten natural numbers is,\n",
    "(1 + 2 + ... + 10)^2 = 55^2 = 3025\n",
    "\n",
    "Hence the difference between the sum of the squares of the first ten natural numbers and the square of the sum is 3025 − 385 = 2640.\n",
    "\n",
    "Find the difference between the sum of the squares of the first one hundred natural numbers and the square of the sum.\n"
   ]
  },
  {
   "cell_type": "code",
   "execution_count": 8,
   "metadata": {
    "ExecuteTime": {
     "end_time": "2018-03-05T19:35:59.568574Z",
     "start_time": "2018-03-05T19:35:59.558187Z"
    }
   },
   "outputs": [
    {
     "name": "stdout",
     "output_type": "stream",
     "text": [
      "25164150\n"
     ]
    }
   ],
   "source": [
    "n1 = 0\n",
    "n2 = 0\n",
    "for i in range(1, 101):\n",
    "    n1 += i**2\n",
    "    n2 += i\n",
    "print(n2**2 - n1)"
   ]
  },
  {
   "cell_type": "markdown",
   "metadata": {},
   "source": [
    "Problem 7:\n",
    "\n",
    "By listing the first six prime numbers: 2, 3, 5, 7, 11, and 13, we can see that the 6th prime is 13.\n",
    "\n",
    "What is the 10,001st prime number?"
   ]
  },
  {
   "cell_type": "code",
   "execution_count": 9,
   "metadata": {
    "ExecuteTime": {
     "end_time": "2018-03-05T19:35:59.601888Z",
     "start_time": "2018-03-05T19:35:59.572734Z"
    }
   },
   "outputs": [],
   "source": [
    "def is_prime(n):\n",
    "    if n % 2 == 0 and n > 2:\n",
    "        return False\n",
    "    else:\n",
    "        return all(n % i for i in range(3, int(np.sqrt(n)) + 1, 2))"
   ]
  },
  {
   "cell_type": "code",
   "execution_count": 10,
   "metadata": {
    "ExecuteTime": {
     "end_time": "2018-03-05T19:36:00.007947Z",
     "start_time": "2018-03-05T19:35:59.605531Z"
    }
   },
   "outputs": [
    {
     "name": "stdout",
     "output_type": "stream",
     "text": [
      "104743\n"
     ]
    }
   ],
   "source": [
    "n_primes = 0\n",
    "i = 1\n",
    "while n_primes < 10001:\n",
    "    i += 1\n",
    "    if is_prime(i): n_primes += 1\n",
    "print(i)"
   ]
  },
  {
   "cell_type": "markdown",
   "metadata": {},
   "source": [
    "Problem 8:\n",
    "\n",
    "The four adjacent digits in the 1000-digit number that have the greatest product are 9 × 9 × 8 × 9 = 5832.\n",
    "\n",
    "73167176531330624919225119674426574742355349194934\n",
    "96983520312774506326239578318016984801869478851843\n",
    "85861560789112949495459501737958331952853208805511\n",
    "12540698747158523863050715693290963295227443043557\n",
    "66896648950445244523161731856403098711121722383113\n",
    "62229893423380308135336276614282806444486645238749\n",
    "30358907296290491560440772390713810515859307960866\n",
    "70172427121883998797908792274921901699720888093776\n",
    "65727333001053367881220235421809751254540594752243\n",
    "52584907711670556013604839586446706324415722155397\n",
    "53697817977846174064955149290862569321978468622482\n",
    "83972241375657056057490261407972968652414535100474\n",
    "82166370484403199890008895243450658541227588666881\n",
    "16427171479924442928230863465674813919123162824586\n",
    "17866458359124566529476545682848912883142607690042\n",
    "24219022671055626321111109370544217506941658960408\n",
    "07198403850962455444362981230987879927244284909188\n",
    "84580156166097919133875499200524063689912560717606\n",
    "05886116467109405077541002256983155200055935729725\n",
    "71636269561882670428252483600823257530420752963450\n",
    "\n",
    "Find the thirteen adjacent digits in the 1000-digit number that have the greatest product. What is the value of this product?"
   ]
  },
  {
   "cell_type": "code",
   "execution_count": 11,
   "metadata": {
    "ExecuteTime": {
     "end_time": "2018-03-05T19:36:00.033840Z",
     "start_time": "2018-03-05T19:36:00.015079Z"
    },
    "collapsed": true
   },
   "outputs": [],
   "source": [
    "from functools import reduce\n",
    "n = str(7316717653133062491922511967442657474235534919493496983520312774506326239578318016984801869478851843858615607891129494954595017379583319528532088055111254069874715852386305071569329096329522744304355766896648950445244523161731856403098711121722383113622298934233803081353362766142828064444866452387493035890729629049156044077239071381051585930796086670172427121883998797908792274921901699720888093776657273330010533678812202354218097512545405947522435258490771167055601360483958644670632441572215539753697817977846174064955149290862569321978468622482839722413756570560574902614079729686524145351004748216637048440319989000889524345065854122758866688116427171479924442928230863465674813919123162824586178664583591245665294765456828489128831426076900422421902267105562632111110937054421750694165896040807198403850962455444362981230987879927244284909188845801561660979191338754992005240636899125607176060588611646710940507754100225698315520005593572972571636269561882670428252483600823257530420752963450)"
   ]
  },
  {
   "cell_type": "code",
   "execution_count": 12,
   "metadata": {
    "ExecuteTime": {
     "end_time": "2018-03-05T19:36:00.052679Z",
     "start_time": "2018-03-05T19:36:00.036951Z"
    }
   },
   "outputs": [
    {
     "name": "stdout",
     "output_type": "stream",
     "text": [
      "23514624000\n"
     ]
    }
   ],
   "source": [
    "max_prod = 0\n",
    "for i in range(1000-13):\n",
    "    prod = reduce(lambda x, y: x*y, [int(x) for x in n[i:i+13]])\n",
    "    if prod > max_prod: max_prod = prod\n",
    "print(max_prod)"
   ]
  },
  {
   "cell_type": "markdown",
   "metadata": {},
   "source": [
    "Problem 9: \n",
    "\n",
    "A Pythagorean triplet is a set of three natural numbers, a < b < c, for which,\n",
    "a2 + b2 = c2\n",
    "\n",
    "For example, 3^2 + 4^2 = 9 + 16 = 25 = 5^2.\n",
    "\n",
    "There exists exactly one Pythagorean triplet for which a + b + c = 1000.\n",
    "Find the product abc."
   ]
  },
  {
   "cell_type": "code",
   "execution_count": 13,
   "metadata": {
    "ExecuteTime": {
     "end_time": "2018-03-05T19:36:01.529299Z",
     "start_time": "2018-03-05T19:36:00.060974Z"
    }
   },
   "outputs": [
    {
     "name": "stdout",
     "output_type": "stream",
     "text": [
      "200 375 425\n",
      "31875000\n",
      "375 200 425\n",
      "31875000\n"
     ]
    }
   ],
   "source": [
    "for i in range(1, 1000):\n",
    "    for j in range(1, 1000):\n",
    "        if i**2 + j**2 == (1000 - i - j)**2:\n",
    "            print(i, j, 1000-i-j)\n",
    "            print(i*j*(1000-i-j))"
   ]
  },
  {
   "cell_type": "markdown",
   "metadata": {},
   "source": [
    "Problem 10:\n",
    "\n",
    "The sum of the primes below 10 is 2 + 3 + 5 + 7 = 17.\n",
    "\n",
    "Find the sum of all the primes below two million."
   ]
  },
  {
   "cell_type": "code",
   "execution_count": 14,
   "metadata": {
    "ExecuteTime": {
     "end_time": "2018-03-05T19:36:01.539400Z",
     "start_time": "2018-03-05T19:36:01.532322Z"
    },
    "collapsed": true
   },
   "outputs": [],
   "source": [
    "def is_prime(n):\n",
    "    if n % 2 == 0 and n > 2:\n",
    "        return False\n",
    "    else:\n",
    "        return all(n % i for i in range(3, int(np.sqrt(n)) + 1, 2))"
   ]
  },
  {
   "cell_type": "code",
   "execution_count": 15,
   "metadata": {
    "ExecuteTime": {
     "end_time": "2018-03-05T19:36:13.122144Z",
     "start_time": "2018-03-05T19:36:01.542178Z"
    }
   },
   "outputs": [
    {
     "name": "stdout",
     "output_type": "stream",
     "text": [
      "142913828922\n"
     ]
    }
   ],
   "source": [
    "tally = 0\n",
    "for i in range(2, 2000000):\n",
    "    if is_prime(i):\n",
    "        tally += i\n",
    "print(tally)"
   ]
  },
  {
   "cell_type": "code",
   "execution_count": null,
   "metadata": {
    "collapsed": true
   },
   "outputs": [],
   "source": []
  }
 ],
 "metadata": {
  "kernelspec": {
   "display_name": "Python 3",
   "language": "python",
   "name": "python3"
  },
  "language_info": {
   "codemirror_mode": {
    "name": "ipython",
    "version": 3
   },
   "file_extension": ".py",
   "mimetype": "text/x-python",
   "name": "python",
   "nbconvert_exporter": "python",
   "pygments_lexer": "ipython3",
   "version": "3.6.2"
  }
 },
 "nbformat": 4,
 "nbformat_minor": 2
}
