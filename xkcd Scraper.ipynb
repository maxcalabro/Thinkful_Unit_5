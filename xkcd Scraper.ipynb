{
 "cells": [
  {
   "cell_type": "code",
   "execution_count": 1,
   "metadata": {
    "ExecuteTime": {
     "end_time": "2018-03-09T20:16:13.379101Z",
     "start_time": "2018-03-09T20:15:59.906386Z"
    },
    "scrolled": false
   },
   "outputs": [
    {
     "name": "stdout",
     "output_type": "stream",
     "text": [
      "https://xkcd.com/1962/\n",
      "https://xkcd.com/1961/\n",
      "https://xkcd.com/1960/\n",
      "https://xkcd.com/1959/\n",
      "https://xkcd.com/1958/\n",
      "https://xkcd.com/1957/\n",
      "https://xkcd.com/1956/\n",
      "https://xkcd.com/1955/\n",
      "https://xkcd.com/1954/\n",
      "https://xkcd.com/1953/\n"
     ]
    }
   ],
   "source": [
    "import scrapy\n",
    "from scrapy.crawler import CrawlerProcess\n",
    "\n",
    "class xkcdSpider(scrapy.Spider):\n",
    "    name = 'xkcd'\n",
    "    \n",
    "    start_urls = [\n",
    "        'https://xkcd.com'\n",
    "    ]\n",
    "    \n",
    "    def parse(self, response):\n",
    "        \n",
    "        yield {\n",
    "            'imgsrc': 'http:{}'.format(response.xpath('/html/body/div[2]/div[2]/img/@src').extract()[0]),\n",
    "            'title': response.xpath('/html/body/div[2]/div[2]/img/@title').extract()[0],\n",
    "            'alt': response.xpath('/html/body/div[2]/div[2]/img/@alt').extract()[0]\n",
    "        }\n",
    "        \n",
    "        next_page = response.xpath('/html/body/div[2]/ul[1]/li[2]/a/@href').extract()[0]\n",
    "        \n",
    "        if next_page is not None:\n",
    "            next_page = response.urljoin(next_page)\n",
    "            print(next_page)\n",
    "            yield scrapy.Request(next_page, callback=self.parse)\n",
    "    \n",
    "process = CrawlerProcess({\n",
    "    'FEED_FORMAT': 'json',\n",
    "    'FEED_URI': 'xkcd.json',\n",
    "    'LOG_ENABLED': False,\n",
    "    'CLOSESPIDER_PAGECOUNT': 10,\n",
    "    'HTTPCACHE_ENABLED': True\n",
    "})\n",
    "\n",
    "process.crawl(xkcdSpider)\n",
    "process.start()"
   ]
  },
  {
   "cell_type": "code",
   "execution_count": 2,
   "metadata": {
    "ExecuteTime": {
     "end_time": "2018-03-09T20:16:16.772946Z",
     "start_time": "2018-03-09T20:16:13.416255Z"
    }
   },
   "outputs": [],
   "source": [
    "import pandas as pd\n",
    "\n",
    "df = pd.read_json('xkcd.json')"
   ]
  },
  {
   "cell_type": "code",
   "execution_count": 3,
   "metadata": {
    "ExecuteTime": {
     "end_time": "2018-03-09T20:16:16.944646Z",
     "start_time": "2018-03-09T20:16:16.787345Z"
    }
   },
   "outputs": [
    {
     "data": {
      "text/html": [
       "<div>\n",
       "<style>\n",
       "    .dataframe thead tr:only-child th {\n",
       "        text-align: right;\n",
       "    }\n",
       "\n",
       "    .dataframe thead th {\n",
       "        text-align: left;\n",
       "    }\n",
       "\n",
       "    .dataframe tbody tr th {\n",
       "        vertical-align: top;\n",
       "    }\n",
       "</style>\n",
       "<table border=\"1\" class=\"dataframe\">\n",
       "  <thead>\n",
       "    <tr style=\"text-align: right;\">\n",
       "      <th></th>\n",
       "      <th>alt</th>\n",
       "      <th>imgsrc</th>\n",
       "      <th>title</th>\n",
       "    </tr>\n",
       "  </thead>\n",
       "  <tbody>\n",
       "    <tr>\n",
       "      <th>0</th>\n",
       "      <td>Namespace Land Rush</td>\n",
       "      <td>http://imgs.xkcd.com/comics/namespace_land_rus...</td>\n",
       "      <td>You can also just mash the keyboard at random,...</td>\n",
       "    </tr>\n",
       "    <tr>\n",
       "      <th>1</th>\n",
       "      <td>Generations</td>\n",
       "      <td>http://imgs.xkcd.com/comics/generations.png</td>\n",
       "      <td>For a while it looked like the Paperclip Machi...</td>\n",
       "    </tr>\n",
       "    <tr>\n",
       "      <th>2</th>\n",
       "      <td>Interaction</td>\n",
       "      <td>http://imgs.xkcd.com/comics/interaction.png</td>\n",
       "      <td>[They do not move.]</td>\n",
       "    </tr>\n",
       "    <tr>\n",
       "      <th>3</th>\n",
       "      <td>Code Golf</td>\n",
       "      <td>http://imgs.xkcd.com/comics/code_golf.png</td>\n",
       "      <td>I also enjoy Reverse Regular Golf. I've been p...</td>\n",
       "    </tr>\n",
       "    <tr>\n",
       "      <th>4</th>\n",
       "      <td>The Simpsons</td>\n",
       "      <td>http://imgs.xkcd.com/comics/the_simpsons.png</td>\n",
       "      <td>In-universe, Bart Simpson and Harry Potter wer...</td>\n",
       "    </tr>\n",
       "    <tr>\n",
       "      <th>5</th>\n",
       "      <td>Self-Driving Issues</td>\n",
       "      <td>http://imgs.xkcd.com/comics/self_driving_issue...</td>\n",
       "      <td>If most people turn into muderers all of a sud...</td>\n",
       "    </tr>\n",
       "    <tr>\n",
       "      <th>6</th>\n",
       "      <td>2018 CVE List</td>\n",
       "      <td>http://imgs.xkcd.com/comics/2018_cve_list.png</td>\n",
       "      <td>CVE-2018-?????: It turns out Bruce Schneier is...</td>\n",
       "    </tr>\n",
       "    <tr>\n",
       "      <th>7</th>\n",
       "      <td>Unification</td>\n",
       "      <td>http://imgs.xkcd.com/comics/unification.png</td>\n",
       "      <td>For a while, some physicists worked on a theor...</td>\n",
       "    </tr>\n",
       "    <tr>\n",
       "      <th>8</th>\n",
       "      <td>Robots</td>\n",
       "      <td>http://imgs.xkcd.com/comics/robots.png</td>\n",
       "      <td>Don't be nervous about the robots, be nervous ...</td>\n",
       "    </tr>\n",
       "    <tr>\n",
       "      <th>9</th>\n",
       "      <td>Impostor Syndrome</td>\n",
       "      <td>http://imgs.xkcd.com/comics/impostor_syndrome.png</td>\n",
       "      <td>It's actually worst in people who study the Du...</td>\n",
       "    </tr>\n",
       "  </tbody>\n",
       "</table>\n",
       "</div>"
      ],
      "text/plain": [
       "                   alt                                             imgsrc  \\\n",
       "0  Namespace Land Rush  http://imgs.xkcd.com/comics/namespace_land_rus...   \n",
       "1          Generations        http://imgs.xkcd.com/comics/generations.png   \n",
       "2          Interaction        http://imgs.xkcd.com/comics/interaction.png   \n",
       "3            Code Golf          http://imgs.xkcd.com/comics/code_golf.png   \n",
       "4         The Simpsons       http://imgs.xkcd.com/comics/the_simpsons.png   \n",
       "5  Self-Driving Issues  http://imgs.xkcd.com/comics/self_driving_issue...   \n",
       "6        2018 CVE List      http://imgs.xkcd.com/comics/2018_cve_list.png   \n",
       "7          Unification        http://imgs.xkcd.com/comics/unification.png   \n",
       "8               Robots             http://imgs.xkcd.com/comics/robots.png   \n",
       "9    Impostor Syndrome  http://imgs.xkcd.com/comics/impostor_syndrome.png   \n",
       "\n",
       "                                               title  \n",
       "0  You can also just mash the keyboard at random,...  \n",
       "1  For a while it looked like the Paperclip Machi...  \n",
       "2                                [They do not move.]  \n",
       "3  I also enjoy Reverse Regular Golf. I've been p...  \n",
       "4  In-universe, Bart Simpson and Harry Potter wer...  \n",
       "5  If most people turn into muderers all of a sud...  \n",
       "6  CVE-2018-?????: It turns out Bruce Schneier is...  \n",
       "7  For a while, some physicists worked on a theor...  \n",
       "8  Don't be nervous about the robots, be nervous ...  \n",
       "9  It's actually worst in people who study the Du...  "
      ]
     },
     "execution_count": 3,
     "metadata": {},
     "output_type": "execute_result"
    }
   ],
   "source": [
    "df"
   ]
  },
  {
   "cell_type": "code",
   "execution_count": 4,
   "metadata": {
    "ExecuteTime": {
     "end_time": "2018-03-09T20:16:17.004316Z",
     "start_time": "2018-03-09T20:16:16.950382Z"
    }
   },
   "outputs": [
    {
     "data": {
      "text/plain": [
       "'http://imgs.xkcd.com/comics/namespace_land_rush.png'"
      ]
     },
     "execution_count": 4,
     "metadata": {},
     "output_type": "execute_result"
    }
   ],
   "source": [
    "df.imgsrc[0]"
   ]
  },
  {
   "cell_type": "code",
   "execution_count": null,
   "metadata": {
    "collapsed": true
   },
   "outputs": [],
   "source": []
  }
 ],
 "metadata": {
  "kernelspec": {
   "display_name": "Python 3",
   "language": "python",
   "name": "python3"
  },
  "language_info": {
   "codemirror_mode": {
    "name": "ipython",
    "version": 3
   },
   "file_extension": ".py",
   "mimetype": "text/x-python",
   "name": "python",
   "nbconvert_exporter": "python",
   "pygments_lexer": "ipython3",
   "version": "3.6.2"
  }
 },
 "nbformat": 4,
 "nbformat_minor": 2
}
