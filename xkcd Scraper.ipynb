{
 "cells": [
  {
   "cell_type": "code",
   "execution_count": 1,
   "metadata": {
    "ExecuteTime": {
     "end_time": "2018-03-06T19:55:54.515939Z",
     "start_time": "2018-03-06T19:55:52.824170Z"
    },
    "scrolled": false
   },
   "outputs": [
    {
     "name": "stdout",
     "output_type": "stream",
     "text": [
      "<Selector xpath='//img' data='<img src=\"//imgs.xkcd.com/comics/namespa'>\n"
     ]
    }
   ],
   "source": [
    "import scrapy\n",
    "from scrapy.crawler import CrawlerProcess\n",
    "\n",
    "class xkcdSpider(scrapy.Spider):\n",
    "    name = 'xkcd'\n",
    "    \n",
    "    start_urls = [\n",
    "        'https://xkcd.com/'\n",
    "    ]\n",
    "    \n",
    "    def parse(self, response):\n",
    "        print(response.xpath('//img'))\n",
    "\n",
    "        \n",
    "#        with open('xkcd.json', 'wb') as f:\n",
    "#            f.write(response.xpath('//img')[1])\n",
    "            \n",
    "process = CrawlerProcess({\n",
    "    'LOG_ENABLED': False\n",
    "})\n",
    "\n",
    "process.crawl(xkcdSpider)\n",
    "process.start()"
   ]
  },
  {
   "cell_type": "code",
   "execution_count": null,
   "metadata": {
    "collapsed": true
   },
   "outputs": [],
   "source": []
  }
 ],
 "metadata": {
  "kernelspec": {
   "display_name": "Python 3",
   "language": "python",
   "name": "python3"
  },
  "language_info": {
   "codemirror_mode": {
    "name": "ipython",
    "version": 3
   },
   "file_extension": ".py",
   "mimetype": "text/x-python",
   "name": "python",
   "nbconvert_exporter": "python",
   "pygments_lexer": "ipython3",
   "version": "3.6.2"
  }
 },
 "nbformat": 4,
 "nbformat_minor": 2
}
