{
 "cells": [
  {
   "cell_type": "code",
   "execution_count": 1,
   "metadata": {
    "ExecuteTime": {
     "end_time": "2018-03-07T19:23:19.539666Z",
     "start_time": "2018-03-07T19:23:18.036108Z"
    },
    "scrolled": false
   },
   "outputs": [],
   "source": [
    "import scrapy\n",
    "from scrapy.crawler import CrawlerProcess\n",
    "\n",
    "class xkcdSpider(scrapy.Spider):\n",
    "    name = 'xkcd'\n",
    "    \n",
    "    start_urls = [\n",
    "        'https://xkcd.com'\n",
    "    ]\n",
    "    \n",
    "    def parse(self, response):\n",
    "        \n",
    "        yield {\n",
    "            'imgsrc': 'http:{}'.format(response.xpath('/html/body/div[2]/div[2]/img/@src').extract()[0]),\n",
    "            'title': response.xpath('/html/body/div[2]/div[2]/img/@title').extract()[0],\n",
    "            'alt': response.xpath('/html/body/div[2]/div[2]/img/@alt').extract()[0]\n",
    "        }\n",
    "        \n",
    "        next_page = response.xpath('/html/body/div[2]/ul[1]/li[2]/a/@href').extract()[0]\n",
    "        \n",
    "#        if next_page is not None:\n",
    "#            next_page = response.urljoin(next_page)\n",
    "#            print(next_page)\n",
    "#            yield scrapy.Request(next_page, callback=self.parse)\n",
    "    \n",
    "process = CrawlerProcess({\n",
    "    'FEED_FORMAT': 'json',\n",
    "    'FEED_URI': 'xkcd.json',\n",
    "    'LOG_ENABLED': False,\n",
    "    'CLOSESPIDER_PAGECOUNT': 4,\n",
    "    'HTTPCACHE_ENABLED': True\n",
    "})\n",
    "\n",
    "process.crawl(xkcdSpider)\n",
    "process.start()"
   ]
  },
  {
   "cell_type": "code",
   "execution_count": 2,
   "metadata": {
    "ExecuteTime": {
     "end_time": "2018-03-07T19:23:20.171173Z",
     "start_time": "2018-03-07T19:23:19.542851Z"
    }
   },
   "outputs": [],
   "source": [
    "import pandas as pd\n",
    "\n",
    "df = pd.read_json('xkcd.json')"
   ]
  },
  {
   "cell_type": "code",
   "execution_count": 3,
   "metadata": {
    "ExecuteTime": {
     "end_time": "2018-03-07T19:23:20.196153Z",
     "start_time": "2018-03-07T19:23:20.174063Z"
    }
   },
   "outputs": [
    {
     "data": {
      "text/html": [
       "<div>\n",
       "<style>\n",
       "    .dataframe thead tr:only-child th {\n",
       "        text-align: right;\n",
       "    }\n",
       "\n",
       "    .dataframe thead th {\n",
       "        text-align: left;\n",
       "    }\n",
       "\n",
       "    .dataframe tbody tr th {\n",
       "        vertical-align: top;\n",
       "    }\n",
       "</style>\n",
       "<table border=\"1\" class=\"dataframe\">\n",
       "  <thead>\n",
       "    <tr style=\"text-align: right;\">\n",
       "      <th></th>\n",
       "      <th>alt</th>\n",
       "      <th>imgsrc</th>\n",
       "      <th>title</th>\n",
       "    </tr>\n",
       "  </thead>\n",
       "  <tbody>\n",
       "    <tr>\n",
       "      <th>0</th>\n",
       "      <td>Namespace Land Rush</td>\n",
       "      <td>http://imgs.xkcd.com/comics/namespace_land_rus...</td>\n",
       "      <td>You can also just mash the keyboard at random,...</td>\n",
       "    </tr>\n",
       "  </tbody>\n",
       "</table>\n",
       "</div>"
      ],
      "text/plain": [
       "                   alt                                             imgsrc  \\\n",
       "0  Namespace Land Rush  http://imgs.xkcd.com/comics/namespace_land_rus...   \n",
       "\n",
       "                                               title  \n",
       "0  You can also just mash the keyboard at random,...  "
      ]
     },
     "execution_count": 3,
     "metadata": {},
     "output_type": "execute_result"
    }
   ],
   "source": [
    "df"
   ]
  },
  {
   "cell_type": "code",
   "execution_count": 5,
   "metadata": {
    "ExecuteTime": {
     "end_time": "2018-03-07T19:23:33.887275Z",
     "start_time": "2018-03-07T19:23:33.873067Z"
    }
   },
   "outputs": [
    {
     "data": {
      "text/plain": [
       "'http://imgs.xkcd.com/comics/namespace_land_rush.png'"
      ]
     },
     "execution_count": 5,
     "metadata": {},
     "output_type": "execute_result"
    }
   ],
   "source": [
    "df.imgsrc[0]"
   ]
  },
  {
   "cell_type": "code",
   "execution_count": null,
   "metadata": {
    "collapsed": true
   },
   "outputs": [],
   "source": []
  }
 ],
 "metadata": {
  "kernelspec": {
   "display_name": "Python 3",
   "language": "python",
   "name": "python3"
  },
  "language_info": {
   "codemirror_mode": {
    "name": "ipython",
    "version": 3
   },
   "file_extension": ".py",
   "mimetype": "text/x-python",
   "name": "python",
   "nbconvert_exporter": "python",
   "pygments_lexer": "ipython3",
   "version": "3.6.2"
  }
 },
 "nbformat": 4,
 "nbformat_minor": 2
}
