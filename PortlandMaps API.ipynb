{
 "cells": [
  {
   "cell_type": "code",
   "execution_count": 1,
   "metadata": {
    "ExecuteTime": {
     "end_time": "2018-03-06T18:03:01.454908Z",
     "start_time": "2018-03-06T18:02:59.507583Z"
    },
    "collapsed": true
   },
   "outputs": [],
   "source": [
    "import scrapy\n",
    "from scrapy.crawler import CrawlerProcess\n",
    "import pandas as pd\n",
    "import numpy as np"
   ]
  },
  {
   "cell_type": "code",
   "execution_count": 2,
   "metadata": {
    "ExecuteTime": {
     "end_time": "2018-03-06T18:03:03.316954Z",
     "start_time": "2018-03-06T18:03:01.458029Z"
    }
   },
   "outputs": [
    {
     "name": "stderr",
     "output_type": "stream",
     "text": [
      "2018-03-06 10:03:01 [scrapy.utils.log] INFO: Scrapy 1.5.0 started (bot: scrapybot)\n",
      "2018-03-06 10:03:01 [scrapy.utils.log] INFO: Versions: lxml 3.8.0.0, libxml2 2.9.4, cssselect 1.0.3, parsel 1.4.0, w3lib 1.19.0, Twisted 17.9.0, Python 3.6.2 |Anaconda custom (64-bit)| (default, Sep 21 2017, 18:29:43) - [GCC 4.2.1 Compatible Clang 4.0.1 (tags/RELEASE_401/final)], pyOpenSSL 17.2.0 (OpenSSL 1.0.2l  25 May 2017), cryptography 2.0.3, Platform Darwin-17.4.0-x86_64-i386-64bit\n",
      "2018-03-06 10:03:01 [scrapy.crawler] INFO: Overridden settings: {}\n",
      "2018-03-06 10:03:01 [scrapy.middleware] INFO: Enabled extensions:\n",
      "['scrapy.extensions.corestats.CoreStats',\n",
      " 'scrapy.extensions.telnet.TelnetConsole',\n",
      " 'scrapy.extensions.memusage.MemoryUsage',\n",
      " 'scrapy.extensions.logstats.LogStats']\n",
      "2018-03-06 10:03:01 [scrapy.middleware] INFO: Enabled downloader middlewares:\n",
      "['scrapy.downloadermiddlewares.httpauth.HttpAuthMiddleware',\n",
      " 'scrapy.downloadermiddlewares.downloadtimeout.DownloadTimeoutMiddleware',\n",
      " 'scrapy.downloadermiddlewares.defaultheaders.DefaultHeadersMiddleware',\n",
      " 'scrapy.downloadermiddlewares.useragent.UserAgentMiddleware',\n",
      " 'scrapy.downloadermiddlewares.retry.RetryMiddleware',\n",
      " 'scrapy.downloadermiddlewares.redirect.MetaRefreshMiddleware',\n",
      " 'scrapy.downloadermiddlewares.httpcompression.HttpCompressionMiddleware',\n",
      " 'scrapy.downloadermiddlewares.redirect.RedirectMiddleware',\n",
      " 'scrapy.downloadermiddlewares.cookies.CookiesMiddleware',\n",
      " 'scrapy.downloadermiddlewares.httpproxy.HttpProxyMiddleware',\n",
      " 'scrapy.downloadermiddlewares.stats.DownloaderStats']\n",
      "2018-03-06 10:03:01 [scrapy.middleware] INFO: Enabled spider middlewares:\n",
      "['scrapy.spidermiddlewares.httperror.HttpErrorMiddleware',\n",
      " 'scrapy.spidermiddlewares.offsite.OffsiteMiddleware',\n",
      " 'scrapy.spidermiddlewares.referer.RefererMiddleware',\n",
      " 'scrapy.spidermiddlewares.urllength.UrlLengthMiddleware',\n",
      " 'scrapy.spidermiddlewares.depth.DepthMiddleware']\n",
      "2018-03-06 10:03:01 [scrapy.middleware] INFO: Enabled item pipelines:\n",
      "[]\n",
      "2018-03-06 10:03:01 [scrapy.core.engine] INFO: Spider opened\n",
      "2018-03-06 10:03:01 [scrapy.extensions.logstats] INFO: Crawled 0 pages (at 0 pages/min), scraped 0 items (at 0 items/min)\n",
      "2018-03-06 10:03:01 [scrapy.extensions.telnet] DEBUG: Telnet console listening on 127.0.0.1:6023\n",
      "2018-03-06 10:03:02 [scrapy.core.engine] DEBUG: Crawled (200) <GET https://www.portlandmaps.com/api/assessor/> (referer: None)\n",
      "2018-03-06 10:03:02 [scrapy.core.scraper] ERROR: Spider error processing <GET https://www.portlandmaps.com/api/assessor/> (referer: None)\n",
      "Traceback (most recent call last):\n",
      "  File \"/Users/maxcalabro/anaconda3/lib/python3.6/site-packages/twisted/internet/defer.py\", line 653, in _runCallbacks\n",
      "    current.result = callback(current.result, *args, **kw)\n",
      "  File \"<ipython-input-2-ff24225b8aaf>\", line 11, in parse\n",
      "    f.write(response)\n",
      "TypeError: a bytes-like object is required, not 'TextResponse'\n",
      "2018-03-06 10:03:02 [scrapy.core.engine] INFO: Closing spider (finished)\n",
      "2018-03-06 10:03:02 [scrapy.statscollectors] INFO: Dumping Scrapy stats:\n",
      "{'downloader/request_bytes': 232,\n",
      " 'downloader/request_count': 1,\n",
      " 'downloader/request_method_count/GET': 1,\n",
      " 'downloader/response_bytes': 635,\n",
      " 'downloader/response_count': 1,\n",
      " 'downloader/response_status_count/200': 1,\n",
      " 'finish_reason': 'finished',\n",
      " 'finish_time': datetime.datetime(2018, 3, 6, 18, 3, 2, 305832),\n",
      " 'log_count/DEBUG': 2,\n",
      " 'log_count/ERROR': 1,\n",
      " 'log_count/INFO': 7,\n",
      " 'memusage/max': 112263168,\n",
      " 'memusage/startup': 112259072,\n",
      " 'response_received_count': 1,\n",
      " 'scheduler/dequeued': 1,\n",
      " 'scheduler/dequeued/memory': 1,\n",
      " 'scheduler/enqueued': 1,\n",
      " 'scheduler/enqueued/memory': 1,\n",
      " 'spider_exceptions/TypeError': 1,\n",
      " 'start_time': datetime.datetime(2018, 3, 6, 18, 3, 1, 667461)}\n",
      "2018-03-06 10:03:02 [scrapy.core.engine] INFO: Spider closed (finished)\n"
     ]
    }
   ],
   "source": [
    "class PortlandMapsSpider(scrapy.Spider):\n",
    "    name = 'MapSpider'\n",
    "    \n",
    "    start_urls = [\n",
    "        'https://www.portlandmaps.com/api/assessor/'\n",
    "        ]\n",
    "    \n",
    "    def parse(self, response):\n",
    "        filename = 'houses.json'\n",
    "        with open(filename, 'wb') as f:\n",
    "            f.write(response)\n",
    "\n",
    "process = CrawlerProcess({\n",
    "    'format': 'json',\n",
    "    'api_key': '9485BB2363AF2C700E8AB5607C63142C',\n",
    "    'download': False,\n",
    "    'user_agent': 'CalabroDataScienceProject (maxcalabro.com)',\n",
    "    \n",
    "    #Search parameters\n",
    "    'zip_code': '97212',\n",
    "    'built_before': '1910',\n",
    "    'sold_after': '01/01/2016',\n",
    "    'sold_before': '07/01/2016',\n",
    "    'sqft_smaller': '2000'\n",
    "})\n",
    "\n",
    "process.crawl(PortlandMapsSpider)\n",
    "process.start()"
   ]
  },
  {
   "cell_type": "code",
   "execution_count": null,
   "metadata": {
    "collapsed": true
   },
   "outputs": [],
   "source": []
  }
 ],
 "metadata": {
  "kernelspec": {
   "display_name": "Python 3",
   "language": "python",
   "name": "python3"
  },
  "language_info": {
   "codemirror_mode": {
    "name": "ipython",
    "version": 3
   },
   "file_extension": ".py",
   "mimetype": "text/x-python",
   "name": "python",
   "nbconvert_exporter": "python",
   "pygments_lexer": "ipython3",
   "version": "3.6.2"
  }
 },
 "nbformat": 4,
 "nbformat_minor": 2
}
